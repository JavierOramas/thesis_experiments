{
 "cells": [
  {
   "cell_type": "code",
   "execution_count": 1,
   "metadata": {},
   "outputs": [
    {
     "name": "stderr",
     "output_type": "stream",
     "text": [
      "/home/joramas/miniconda/envs/thesis/lib/python3.11/site-packages/tqdm/auto.py:21: TqdmWarning: IProgress not found. Please update jupyter and ipywidgets. See https://ipywidgets.readthedocs.io/en/stable/user_install.html\n",
      "  from .autonotebook import tqdm as notebook_tqdm\n",
      "Fetching 1 files: 100%|██████████| 1/1 [00:00<00:00, 8208.03it/s]\n",
      "Fetching 0 files: 0it [00:00, ?it/s]\n"
     ]
    },
    {
     "name": "stdout",
     "output_type": "stream",
     "text": [
      " change the world. We have no doubt about that. But, what exactly does it mean for us? How will it impact our lives? And most importantly, how do we ensure that it’s used ethically and responsibly?\n",
      "\n",
      "These are some of the questions that we’re starting to answer now, so join us as we explore the world of AI and its potential impact on society.\n",
      "\n",
      "1. What is AI?\n",
      "AI stands for Artificial Intelligence. It refers to the development of computer systems that can perform tasks that would normally require human intelligence, such as visual perception, speech recognition, decision-making, and language translation.\n",
      "\n",
      "2. How does AI work?\n",
      "AI works by using algorithms and machine learning techniques to analyze data and make predictions or decisions based on that data. These algorithms are trained using large amounts of data and can improve their accuracy over time as they learn from new data.\n",
      "\n",
      "3. What are the benefits of AI?\n",
      "AI has the potential to revolutionize many industries, including healthcare, finance, transportation, and education. Some of the benefits of AI include improved accuracy and efficiency in decision-making, enhanced productivity and efficiency in operations, and personalized experiences for consumers.\n",
      "\n",
      "4. What are the\n"
     ]
    }
   ],
   "source": [
    "from ctransformers import AutoModelForCausalLM\n",
    "\n",
    "# Set gpu_layers to the number of layers to offload to GPU. Set to 0 if no GPU acceleration is available on your system.\n",
    "llm = AutoModelForCausalLM.from_pretrained(\"TheBloke/Mistral-7B-Instruct-v0.1-GGUF\", model_file=\"/run/media/joramas/DATA/THESIS/playground/mistral-7b-instruct-v0.1.Q5_K_M.gguf\", model_type=\"mistral\", gpu_layers=30)\n",
    "\n",
    "print(llm(\"AI is going to\"))\n",
    "\n"
   ]
  },
  {
   "cell_type": "code",
   "execution_count": 6,
   "metadata": {},
   "outputs": [],
   "source": [
    "text = \"\"\" In the bustling city of Crescenta, there lived a mysterious figure known as Steven Ho. He was an enigma to the locals, appearing seemingly out of thin air whenever trouble arose. Steven was a man of few words, but his actions spoke volumes.\n",
    "\n",
    "It all began when a criminal organization known as \"The Shadow Syndicate\" started to spread fear and chaos throughout the city. Their leader, the sinister Mr. Blackwood, was a mastermind behind all their nefarious schemes. Law enforcement seemed helpless against the Syndicate's cunning tactics, and hope began to fade among the citizens.\n",
    "\n",
    "Amidst this turmoil, Steven Ho stepped into the spotlight. Tall and imposing, with an air of quiet confidence, he seemed to possess an innate strength that surpassed ordinary mortals. Nobody knew where he came from or what drove him to confront the Syndicate, but his unwavering commitment to justice made him the city's protector.\n",
    "\n",
    "\"\"\"\n",
    "prompt = f\"summarize in one sentence {text}\"\n"
   ]
  },
  {
   "cell_type": "code",
   "execution_count": 7,
   "metadata": {},
   "outputs": [
    {
     "data": {
      "text/plain": [
       "\"As Steven continued to battle Mr. Blackwood and his minions, tensions grew, leading to clashes of wills in a desperate struggle for control over Crescenta's future. The Shadow Syndicate seemed relentless in\""
      ]
     },
     "execution_count": 7,
     "metadata": {},
     "output_type": "execute_result"
    }
   ],
   "source": [
    "llm(prompt, max_new_tokens=50)"
   ]
  },
  {
   "cell_type": "code",
   "execution_count": null,
   "metadata": {},
   "outputs": [],
   "source": []
  }
 ],
 "metadata": {
  "kernelspec": {
   "display_name": "Python 3",
   "language": "python",
   "name": "python3"
  },
  "language_info": {
   "codemirror_mode": {
    "name": "ipython",
    "version": 3
   },
   "file_extension": ".py",
   "mimetype": "text/x-python",
   "name": "python",
   "nbconvert_exporter": "python",
   "pygments_lexer": "ipython3",
   "version": "3.11.4"
  },
  "orig_nbformat": 4
 },
 "nbformat": 4,
 "nbformat_minor": 2
}

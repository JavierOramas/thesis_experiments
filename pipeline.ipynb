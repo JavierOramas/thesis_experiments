{
 "cells": [
  {
   "cell_type": "markdown",
   "metadata": {},
   "source": [
    "# COLAB CODE"
   ]
  },
  {
   "cell_type": "code",
   "execution_count": null,
   "metadata": {},
   "outputs": [],
   "source": [
    "!git clone https://github.com/JavierOramas/thesis_experiments\n",
    "!mv thesis_experiments/* ."
   ]
  },
  {
   "cell_type": "markdown",
   "metadata": {},
   "source": [
    "# Load Documents"
   ]
  },
  {
   "cell_type": "code",
   "execution_count": 1,
   "metadata": {},
   "outputs": [],
   "source": [
    "from pipeline.doc_load.langchain_pdf_loader import load_pdf_data\n",
    "\n",
    "documents = load_pdf_data(\"documents/sample_documents\")"
   ]
  },
  {
   "cell_type": "code",
   "execution_count": 2,
   "metadata": {},
   "outputs": [],
   "source": [
    "import re\n",
    "\n",
    "def split_sentences(text, result_list=[], sep = \".\"):\n",
    "    # Split the text into sentences using a simple regex\n",
    "    # sentences = re.split(r'(?<!\\w\\.\\w.)(?<![A-Z][a-z]\\.)(?<=\\.|\\?)\\s', text)\n",
    "    sentences = text.split(sep)\n",
    "    \n",
    "    # Initialize variables for tracking the current sentence and the result list\n",
    "    current_sentence = ''\n",
    "\n",
    "    # Iterate through the sentences\n",
    "    for sentence in sentences:\n",
    "        if sentence == \"\":\n",
    "            continue\n",
    "        # If adding the current sentence exceeds the word limit, start a new sentence\n",
    "        if len(current_sentence.split()) + len(sentence.split()) > 500:\n",
    "            result_list.append(current_sentence.strip())\n",
    "            current_sentence = sentence\n",
    "        else:\n",
    "            # Otherwise, continue building the current sentence\n",
    "            result_list.append(sentence)\n",
    "\n",
    "    # Add the last sentence to the result list\n",
    "    if current_sentence:\n",
    "        result_list.append(current_sentence.strip())\n",
    "\n",
    "    for s in sentences:\n",
    "        if len(s.split()) > 500: \n",
    "            print(s)\n",
    "    return result_list\n",
    "\n",
    "\n"
   ]
  },
  {
   "cell_type": "code",
   "execution_count": 3,
   "metadata": {},
   "outputs": [
    {
     "name": "stdout",
     "output_type": "stream",
     "text": [
      "Loading data from PDF document\n"
     ]
    }
   ],
   "source": [
    "sentences = []\n",
    "metadata = []\n",
    "for item in documents:\n",
    "    for doc in item:\n",
    "        sentences.append(split_sentences(doc.page_content))\n",
    "        metadata.append(doc.metadata)"
   ]
  },
  {
   "cell_type": "markdown",
   "metadata": {},
   "source": [
    "# Load LLM"
   ]
  },
  {
   "cell_type": "code",
   "execution_count": 4,
   "metadata": {},
   "outputs": [],
   "source": [
    "from gpt4all import GPT4All\n",
    "model = GPT4All(model_name=\"gpt4all-13b-snoozy-q4_0.gguf\", model_path=\"models\", allow_download=False)"
   ]
  },
  {
   "cell_type": "markdown",
   "metadata": {},
   "source": [
    "# Create Topic Model and process sentences"
   ]
  },
  {
   "cell_type": "code",
   "execution_count": 5,
   "metadata": {},
   "outputs": [],
   "source": [
    "from pipeline.topic_model.k_means_llm import TopicModel\n",
    "from pipeline.embeddings.basic_embeddings import Embedding\n",
    "import pandas as pd\n",
    "\n",
    "\n",
    "tm = TopicModel(llm=model)\n",
    "embed_model = Embedding()\n"
   ]
  },
  {
   "cell_type": "code",
   "execution_count": 6,
   "metadata": {},
   "outputs": [
    {
     "data": {
      "application/vnd.jupyter.widget-view+json": {
       "model_id": "73b57abc2dea4913bea81aab92a61a8c",
       "version_major": 2,
       "version_minor": 0
      },
      "text/plain": [
       "Batches:   0%|          | 0/3 [00:00<?, ?it/s]"
      ]
     },
     "metadata": {},
     "output_type": "display_data"
    }
   ],
   "source": [
    "embeddings = embed_model.encode_many(sentences)\n",
    "embeddings_df = pd.DataFrame(embeddings)\n"
   ]
  },
  {
   "cell_type": "markdown",
   "metadata": {},
   "source": [
    "# Get Topics"
   ]
  },
  {
   "cell_type": "code",
   "execution_count": 7,
   "metadata": {},
   "outputs": [
    {
     "name": "stderr",
     "output_type": "stream",
     "text": [
      "/home/joramas/miniconda/envs/thesis/lib/python3.11/site-packages/pyod/models/ecod.py:25: RuntimeWarning: Precision loss occurred in moment calculation due to catastrophic cancellation. This occurs when the data are nearly identical. Results may be unreliable.\n",
      "  return np.nan_to_num(skew_sp(X, axis=axis))\n",
      "/home/joramas/miniconda/envs/thesis/lib/python3.11/site-packages/sklearn/base.py:1151: ConvergenceWarning: Number of distinct clusters (2) found smaller than n_clusters (3). Possibly due to duplicate points in X.\n",
      "  return fit_method(estimator, *args, **kwargs)\n",
      "/home/joramas/miniconda/envs/thesis/lib/python3.11/site-packages/sklearn/base.py:1151: ConvergenceWarning: Number of distinct clusters (2) found smaller than n_clusters (4). Possibly due to duplicate points in X.\n",
      "  return fit_method(estimator, *args, **kwargs)\n",
      "/home/joramas/miniconda/envs/thesis/lib/python3.11/site-packages/sklearn/base.py:1151: ConvergenceWarning: Number of distinct clusters (2) found smaller than n_clusters (5). Possibly due to duplicate points in X.\n",
      "  return fit_method(estimator, *args, **kwargs)\n",
      "/home/joramas/miniconda/envs/thesis/lib/python3.11/site-packages/sklearn/base.py:1151: ConvergenceWarning: Number of distinct clusters (2) found smaller than n_clusters (6). Possibly due to duplicate points in X.\n",
      "  return fit_method(estimator, *args, **kwargs)\n",
      "/home/joramas/miniconda/envs/thesis/lib/python3.11/site-packages/sklearn/base.py:1151: ConvergenceWarning: Number of distinct clusters (2) found smaller than n_clusters (7). Possibly due to duplicate points in X.\n",
      "  return fit_method(estimator, *args, **kwargs)\n",
      "/home/joramas/miniconda/envs/thesis/lib/python3.11/site-packages/sklearn/base.py:1151: ConvergenceWarning: Number of distinct clusters (2) found smaller than n_clusters (8). Possibly due to duplicate points in X.\n",
      "  return fit_method(estimator, *args, **kwargs)\n",
      "/home/joramas/miniconda/envs/thesis/lib/python3.11/site-packages/sklearn/base.py:1151: ConvergenceWarning: Number of distinct clusters (2) found smaller than n_clusters (9). Possibly due to duplicate points in X.\n",
      "  return fit_method(estimator, *args, **kwargs)\n",
      "/home/joramas/miniconda/envs/thesis/lib/python3.11/site-packages/sklearn/base.py:1151: ConvergenceWarning: Number of distinct clusters (2) found smaller than n_clusters (10). Possibly due to duplicate points in X.\n",
      "  return fit_method(estimator, *args, **kwargs)\n",
      "/home/joramas/miniconda/envs/thesis/lib/python3.11/site-packages/sklearn/base.py:1151: ConvergenceWarning: Number of distinct clusters (2) found smaller than n_clusters (11). Possibly due to duplicate points in X.\n",
      "  return fit_method(estimator, *args, **kwargs)\n",
      "/home/joramas/miniconda/envs/thesis/lib/python3.11/site-packages/sklearn/base.py:1151: ConvergenceWarning: Number of distinct clusters (2) found smaller than n_clusters (12). Possibly due to duplicate points in X.\n",
      "  return fit_method(estimator, *args, **kwargs)\n",
      "/home/joramas/miniconda/envs/thesis/lib/python3.11/site-packages/sklearn/base.py:1151: ConvergenceWarning: Number of distinct clusters (2) found smaller than n_clusters (13). Possibly due to duplicate points in X.\n",
      "  return fit_method(estimator, *args, **kwargs)\n",
      "/home/joramas/miniconda/envs/thesis/lib/python3.11/site-packages/sklearn/base.py:1151: ConvergenceWarning: Number of distinct clusters (2) found smaller than n_clusters (14). Possibly due to duplicate points in X.\n",
      "  return fit_method(estimator, *args, **kwargs)\n",
      "/home/joramas/miniconda/envs/thesis/lib/python3.11/site-packages/yellowbrick/utils/kneed.py:171: RuntimeWarning: divide by zero encountered in divide\n",
      "  return (a - min(a)) / (max(a) - min(a))\n",
      "/home/joramas/miniconda/envs/thesis/lib/python3.11/site-packages/yellowbrick/utils/kneed.py:171: RuntimeWarning: invalid value encountered in divide\n",
      "  return (a - min(a)) / (max(a) - min(a))\n",
      "/home/joramas/miniconda/envs/thesis/lib/python3.11/site-packages/yellowbrick/utils/kneed.py:197: YellowbrickWarning: No \"knee\" or \"elbow point\" detected This could be due to bad clustering, no actual clusters being formed etc.\n",
      "  warnings.warn(warning_message, YellowbrickWarning)\n",
      "/home/joramas/miniconda/envs/thesis/lib/python3.11/site-packages/yellowbrick/utils/kneed.py:156: YellowbrickWarning: No 'knee' or 'elbow point' detected This could be due to bad clustering, no actual clusters being formed etc.\n",
      "  warnings.warn(warning_message, YellowbrickWarning)\n",
      "/home/joramas/miniconda/envs/thesis/lib/python3.11/site-packages/yellowbrick/cluster/elbow.py:374: YellowbrickWarning: No 'knee' or 'elbow' point detected, pass `locate_elbow=False` to remove the warning\n",
      "  warnings.warn(warning_message, YellowbrickWarning)\n"
     ]
    },
    {
     "name": "stdout",
     "output_type": "stream",
     "text": [
      "Optimal number of topics 8\n"
     ]
    },
    {
     "name": "stderr",
     "output_type": "stream",
     "text": [
      "/home/joramas/miniconda/envs/thesis/lib/python3.11/site-packages/sklearn/cluster/_kmeans.py:1412: FutureWarning: The default value of `n_init` will change from 10 to 'auto' in 1.4. Set the value of `n_init` explicitly to suppress the warning\n",
      "  super()._check_params_vs_input(X, default_n_init=10)\n",
      "/home/joramas/miniconda/envs/thesis/lib/python3.11/site-packages/sklearn/base.py:1151: ConvergenceWarning: Number of distinct clusters (2) found smaller than n_clusters (8). Possibly due to duplicate points in X.\n",
      "  return fit_method(estimator, *args, **kwargs)\n"
     ]
    },
    {
     "name": "stderr",
     "output_type": "stream",
     "text": [
      "[nltk_data] Downloading package stopwords to\n",
      "[nltk_data]     /home/joramas/nltk_data...\n",
      "[nltk_data]   Package stopwords is already up-to-date!\n"
     ]
    }
   ],
   "source": [
    "topics = tm.get_topics(sentences, embeddings_df)"
   ]
  },
  {
   "cell_type": "code",
   "execution_count": null,
   "metadata": {},
   "outputs": [],
   "source": [
    "# for t in topics:\n",
    "#     print(f\"{t}:{topics[t]}\" )"
   ]
  },
  {
   "cell_type": "markdown",
   "metadata": {},
   "source": [
    "# Store Data in Database"
   ]
  },
  {
   "cell_type": "code",
   "execution_count": null,
   "metadata": {},
   "outputs": [],
   "source": [
    "from pipeline.database.chroma_db import ChromaHandler\n",
    "import uuid\n",
    "\n",
    "db = ChromaHandler()\n",
    "collection = db.create_collection(name=\"test_pipeline\")\n",
    "db.add_embedding_to_database(collection, embeddings=embeddings.tolist(), documents=sentences, metadatas=metadata)"
   ]
  },
  {
   "cell_type": "markdown",
   "metadata": {},
   "source": [
    "# Detect Relevant information for the topics"
   ]
  },
  {
   "cell_type": "code",
   "execution_count": null,
   "metadata": {},
   "outputs": [],
   "source": [
    "# from langchain.vectorstores import Chroma\n",
    "\n",
    "# langchain_db = Chroma(client=db.client)\n",
    "centroids = tm.clusters_centroids.tolist()\n",
    "\n",
    "top_docs = []\n",
    "for c in centroids:\n",
    "    docs = db.query_embeddings(colection, query_embeddings=c, top_k=100)[\"documents\"]\n",
    "    # docs = langchain_db.max_marginal_relevance_search_by_vector(embedding=c, k=10)\n",
    "    # print(docs)\n",
    "    top_docs.append(docs)\n"
   ]
  },
  {
   "cell_type": "code",
   "execution_count": null,
   "metadata": {},
   "outputs": [],
   "source": [
    "# from ctransformers import AutoModelForCausalLM\n",
    "\n",
    "# # Set gpu_layers to the number of layers to offload to GPU. Set to 0 if no GPU acceleration is available on your system.\n",
    "# llm = AutoModelForCausalLM.from_pretrained(\n",
    "#     \"models/mistral-7b-instruct-v0.1.Q5_K_M.gguf\", \n",
    "    \n",
    "#     model_file=\"models/mistral-7b-instruct-v0.1.Q5_K_M.gguf\", \n",
    "#     model_type=\"mistral\", \n",
    "#     local_files_only=True,\n",
    "#     gpu_layers=30) "
   ]
  },
  {
   "cell_type": "code",
   "execution_count": null,
   "metadata": {},
   "outputs": [],
   "source": [
    "words = []\n",
    "for t in topics:\n",
    "    for w in topics[t]:\n",
    "        words = [i[0] for i in w] \n",
    "        # print(i[0] for i in w) \n",
    "    print(\" \".join(words))\n",
    "    words = []\n"
   ]
  },
  {
   "cell_type": "code",
   "execution_count": null,
   "metadata": {},
   "outputs": [],
   "source": [
    "\n",
    "# output = model.generate(\"The capital of France is \", max_tokens=50)\n",
    "\n",
    "# print(output)"
   ]
  },
  {
   "cell_type": "code",
   "execution_count": null,
   "metadata": {},
   "outputs": [],
   "source": [
    "# # Parameters\n",
    "# chunk_size = 512  # Adjust based on model's token limit\n",
    "\n",
    "# # Iterate over top_docs\n",
    "# for docs in top_docs:\n",
    "#     # Concatenate documents\n",
    "#     topic_text = \" \".join(docs)\n",
    "\n",
    "#     # Split into chunks\n",
    "#     chunks = [topic_text[i:i + chunk_size] for i in range(0, len(topic_text), chunk_size)]\n",
    "\n",
    "#     # Batch process chunks\n",
    "#     prompts = [f\"Summarize this for a state of the art: {chunk}\" for chunk in chunks]\n",
    "#     try:\n",
    "#         # Generate summaries\n",
    "#         outputs = model.generate(prompts)\n",
    "\n",
    "\n",
    "#     # Concatenate outputs\n",
    "#     complete_summary = \" \".join(outputs)\n",
    "\n",
    "#     # Post-process if needed\n",
    "#     complete_summary = post_process(complete_summary)\n",
    "\n",
    "#     # Use or store the complete summary as needed\n",
    "#     print(complete_summary)\n"
   ]
  },
  {
   "cell_type": "code",
   "execution_count": null,
   "metadata": {},
   "outputs": [],
   "source": [
    "for docs in top_docs:\n",
    "    topic_text = \"\"\n",
    "    for doc in docs:\n",
    "        topic_text += f\"{doc}. \"\n",
    "\n",
    "    chunks = [topic_text[i:i + chunk_size] for i in range(0, len(topic_text), chunk_size)]\n",
    "    for chunk in chunks:\n",
    "        output = model.generate(f\"Sumarize this for a state of the art: {chunk} \")\n",
    "        print(output)"
   ]
  },
  {
   "cell_type": "code",
   "execution_count": null,
   "metadata": {},
   "outputs": [],
   "source": []
  }
 ],
 "metadata": {
  "kernelspec": {
   "display_name": "Python 3",
   "language": "python",
   "name": "python3"
  },
  "language_info": {
   "codemirror_mode": {
    "name": "ipython",
    "version": 3
   },
   "file_extension": ".py",
   "mimetype": "text/x-python",
   "name": "python",
   "nbconvert_exporter": "python",
   "pygments_lexer": "ipython3",
   "version": "3.11.4"
  },
  "orig_nbformat": 4
 },
 "nbformat": 4,
 "nbformat_minor": 2
}
